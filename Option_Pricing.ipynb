{
 "cells": [
  {
   "cell_type": "code",
   "execution_count": 6,
   "metadata": {},
   "outputs": [],
   "source": [
    "def prepareLatexTable(call_QE, call_Euler, call_TG, call_CMC, theo_price):\n",
    "    _Euler = f\"{call_Euler:.2f}\" + \"(\" + f\"{call_Euler - theo_price:.2f}\"\n",
    "    _QE = f\"{call_QE:.2f}\" + \"(\" + f\"{call_QE - theo_price:.2f}\" +\")\"\n",
    "    _TG = f\"{call_TG:.2f}\" + \"(\" + f\"{call_TG - theo_price:.2f}\" +\")\"\n",
    "    _CMC = f\"{call_CMC:.2f}\" + \"(\" + f\"{call_CMC - theo_price:.2f}\" +\")\"\n",
    "    return _Euler + \" & \" + _QE + \" & \" + _TG  +\" & \" + _CMC"
   ]
  },
  {
   "cell_type": "code",
   "execution_count": 35,
   "metadata": {},
   "outputs": [],
   "source": [
    "import numpy as np\n",
    "from numericalHesnton import TGHeston, QEHeston, EulerHeston\n",
    "epsion = 0.4\n",
    "kappa = 0.5\n",
    "theta = 0.04\n",
    "T = 2\n",
    "timeStep = 100\n",
    "rho = -0.3\n",
    "V0 = 0.04\n",
    "S0 = 4900\n",
    "K = 5100\n",
    "numSim = 10000\n",
    "grid = np.genfromtxt('/Users/zhiwang/Desktop/STAT906/Code/ResearchPaper/grid.csv')\n",
    "swtiching_rule = 1.5\n",
    "myHestonTG = TGHeston(kappa,theta,epsion,rho, grid)\n",
    "myHentonQE = QEHeston(kappa, theta, epsion,rho, 1.5)\n",
    "myHestonEuler = EulerHeston(kappa, theta, epsion, rho)\n",
    "\n",
    "np.random.seed(10086)\n",
    "(result_asset_QE, result_var_QE) = myHentonQE.simulateAssetPath(T,V0,np.log(S0),timeStep,10000)\n",
    "(result_asset_TG, result_var_TG) = myHestonTG.simulateAssetPath(T,V0,np.log(S0),timeStep,10000)\n",
    "(result_asset_Euler, result_var_Euler) = myHestonEuler.simulateAssetPath(T,V0,np.log(S0),timeStep,10000)\n",
    "CMC = myHentonQE.callOptionPriceFromCMC(T,V0, np.log(S0), timeStep, 10000, K,0)\n"
   ]
  },
  {
   "cell_type": "code",
   "execution_count": 36,
   "metadata": {},
   "outputs": [
    {
     "data": {
      "text/plain": [
       "'465.54(-5.66 & 470.16(-1.03) & 465.84(-5.36) & 473.15(1.95)'"
      ]
     },
     "execution_count": 36,
     "metadata": {},
     "output_type": "execute_result"
    }
   ],
   "source": [
    "call_QE = np.mean(np.maximum(np.exp(result_asset_QE[:,-1]) - K, 0))\n",
    "call_Euler = np.mean(np.maximum(np.exp(result_asset_Euler[:,-1]) - K, 0))\n",
    "call_TG = np.mean(np.maximum(np.exp(result_asset_TG[:,-1]) - K, 0))\n",
    "exact_price = 471.19665529201575\n",
    "prepareLatexTable(call_QE,call_Euler,call_TG, np.mean(CMC), exact_price)"
   ]
  },
  {
   "cell_type": "code",
   "execution_count": 42,
   "metadata": {},
   "outputs": [
    {
     "name": "stdout",
     "output_type": "stream",
     "text": [
      "463.04(84.49 & 405.42(26.87) & 399.08(20.53) & 409.24(30.69)\n",
      "445.85(67.30 & 381.18(2.63) & 369.52(-9.03) & 382.52(3.97)\n",
      "409.24(30.69 & 372.66(-5.89) & 368.73(-9.82) & 379.01(0.46)\n",
      "388.70(10.15 & 374.30(-4.25) & 375.69(-2.86) & 378.72(0.17)\n",
      "380.28(1.73 & 376.98(-1.57) & 375.96(-2.59) & 378.60(0.05)\n",
      "367.04(-11.51 & 373.41(-5.14) & 383.83(5.28) & 377.87(-0.68)\n"
     ]
    }
   ],
   "source": [
    "K = 5100\n",
    "np.random.seed(10083)\n",
    "timeSteps = [1,4,8,16,32,64]\n",
    "for step in timeSteps:\n",
    "    (result_asset_QE, result_var_QE) = myHentonQE.simulateAssetPath(T,V0,np.log(S0),step,30000)\n",
    "    (result_asset_TG, result_var_TG) = myHestonTG.simulateAssetPath(T,V0,np.log(S0),step,30000)\n",
    "    (result_asset_Euler, result_var_Euler) = myHestonEuler.simulateAssetPath(T,V0,np.log(S0),step,30000)\n",
    "    CMC = myHentonQE.callOptionPriceFromCMC(T,V0, np.log(S0), step, 30000, K,0)\n",
    "    call_QE = np.mean(np.maximum(np.exp(result_asset_QE[:,-1]) - K, 0))\n",
    "    call_Euler = np.mean(np.maximum(np.exp(result_asset_Euler[:,-1]) - K, 0))\n",
    "    call_TG = np.mean(np.maximum(np.exp(result_asset_TG[:,-1]) - K, 0))\n",
    "    exact_price = 378.54912906764594\n",
    "    print(prepareLatexTable(call_QE,call_Euler,call_TG, np.mean(CMC), exact_price))"
   ]
  }
 ],
 "metadata": {
  "interpreter": {
   "hash": "b0fa6594d8f4cbf19f97940f81e996739fb7646882a419484c72d19e05852a7e"
  },
  "kernelspec": {
   "display_name": "Python 3.9.7 64-bit",
   "language": "python",
   "name": "python3"
  },
  "language_info": {
   "codemirror_mode": {
    "name": "ipython",
    "version": 3
   },
   "file_extension": ".py",
   "mimetype": "text/x-python",
   "name": "python",
   "nbconvert_exporter": "python",
   "pygments_lexer": "ipython3",
   "version": "3.9.7"
  },
  "orig_nbformat": 4
 },
 "nbformat": 4,
 "nbformat_minor": 2
}
